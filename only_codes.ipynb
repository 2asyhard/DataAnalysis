{
 "cells": [
  {
   "cell_type": "markdown",
   "id": "54c27f91",
   "metadata": {},
   "source": [
    "## 1. 데이터 특징 확인하기"
   ]
  },
  {
   "cell_type": "markdown",
   "id": "85b51dd9",
   "metadata": {},
   "source": [
    "- pandas\n",
    "    - `value_counts()`\n",
    "    - `info()`\n",
    "    - `agg()`\n",
    "    - `isnull()`\n",
    "- seaborn\n",
    "    - `sns.pairplot(data=df.data, hue=df.target)`"
   ]
  },
  {
   "cell_type": "markdown",
   "id": "5924b7c1",
   "metadata": {},
   "source": [
    "## 2. 데이터 전처리"
   ]
  },
  {
   "cell_type": "markdown",
   "id": "f0283321",
   "metadata": {},
   "source": [
    "- pandas\n",
    "    - `fillna()`\n",
    "    - `dropna()`\n",
    "    - `get_dummies(df or df.cols)`: onehot encoding\n",
    "- sklearn\n",
    "    - `from sklearn.preprocessing import ~`\n",
    "        - `LabelEncoder`: 데이터를 숫자로 변경\n",
    "            - `LabelEncoder().fit_transform(df.col)`\n",
    "            - `pd.get_dummies()`를 사용한다면 필요 없음\n",
    "        - scaler\n",
    "            - 코드 작성 방법\n",
    "                - `scaler(df.col1.values.reshape(-1, 1))`\n",
    "            - 종류\n",
    "                - `StandardScaler` \n",
    "                - `MinMaxScaler`\n",
    "                - `QuantileScaler`\n",
    "                - `PolynomialFeatures`\n",
    "- 전처리 데이터 합치기\n",
    "    - `pd.concat([df1, df2], axis=1)`\n",
    "- 기타 \n",
    "    - columns의 차집합 \n",
    "        - `list(set(all_columns) - set(subset_columns))`"
   ]
  },
  {
   "cell_type": "markdown",
   "id": "98685e2a",
   "metadata": {},
   "source": [
    "## 3. 모델을 이용하여 학습 시키기"
   ]
  },
  {
   "cell_type": "markdown",
   "id": "246d87a4",
   "metadata": {},
   "source": [
    "- 대표적 모델 불러오기\n",
    "    - `from sklearn.linear_model import LinearRegression, LogisticRegression`\n",
    "    - `from sklearn.neighbors import KNeighborsClassifier`\n",
    "    - `from sklearn.naive_bayes import GaussianNB`\n",
    "    - `from sklearn.svm import SVC, NuSVC, LinearSVC`\n",
    "    - `from sklearn.tree import DecisionTreeClassifier`\n",
    "    - `from sklearn.ensemble import RandomForestClassifier`\n",
    "- GridSearchCV\n",
    "    - 선언 및 파라미터 세팅 코드 예시(LogisticRegression)\n",
    "        - `from sklearn.model_selection import GridSearchCV`\n",
    "        - `from sklearn.metrics import precision_score, recall_score, make_scorer`\n",
    "        - `C = [i*0.4 for i in range(4, 11)]`\n",
    "        - `class_weight = [{'Iris-setosa':1, 'Iris-versicolor':1, 'Iris-virginica':1}]`\n",
    "        - `model = GricSearchCV(`\n",
    "            - `estimator=LogisticRegression(),`\n",
    "            - `param_grid={'class_weight':class_weight, 'C':C}`\n",
    "            - `cv=10,`\n",
    "            - `scoring={'precision':make_scorer(precision_score), 'recall_score':make_scorer(recall_score)},`\n",
    "            - `refit='precision')`\n",
    "        - 코드 주의 사항\n",
    "            - param_grid\n",
    "                - 목록을 확인하기 위해 `??LogisticRegression` 를 사용 할 수 있음\n",
    "                - class_weight는 target의 비율을 확인하여 결정함\n",
    "            - scoring과 refit를 시도하는 경우 메모리 문제가 생기기도 함\n",
    "    - 선언된 model 사용 코드 예시\n",
    "        - `result = model.fit(X, y)`\n",
    "        - `pd.DataFrame(model.cv_result_)`\n",
    "        - `best_model = model.best_estimator`\n",
    "        - `best_result = best_model.predict(X)`"
   ]
  },
  {
   "cell_type": "markdown",
   "id": "b83c505b",
   "metadata": {},
   "source": [
    "## 4. 계산된 결과값 정리"
   ]
  },
  {
   "cell_type": "markdown",
   "id": "4ce11715",
   "metadata": {},
   "source": [
    "- pandas\n",
    "    - `df.rename(columns={old_col1: new_col1, old_col2: new_col2}, index={old_idx3: new_idx3, old_idx4: new_idx4})`\n",
    "    - `df.rename_axis('column_title', axis='columns').rename_axis('index_title', axis='index')`\n",
    "    - `df.set_index(df.columns[1])`"
   ]
  },
  {
   "cell_type": "markdown",
   "id": "ba7c0d3e",
   "metadata": {},
   "source": [
    "## Help"
   ]
  },
  {
   "cell_type": "markdown",
   "id": "fd1b09c5",
   "metadata": {},
   "source": [
    "- `.get_params()`\n",
    "    - `from sklearn.linear_model import LogisticRegression`\n",
    "    - `LogisticRegression().get_params()`\n",
    "    \n",
    "- `??`\n",
    "    - `??LogisticRegression`\n",
    "- `info()`\n",
    "    - `df.info()`"
   ]
  },
  {
   "cell_type": "code",
   "execution_count": null,
   "id": "a7f41fa8",
   "metadata": {},
   "outputs": [],
   "source": []
  }
 ],
 "metadata": {
  "kernelspec": {
   "display_name": "Python 3 (ipykernel)",
   "language": "python",
   "name": "python3"
  },
  "language_info": {
   "codemirror_mode": {
    "name": "ipython",
    "version": 3
   },
   "file_extension": ".py",
   "mimetype": "text/x-python",
   "name": "python",
   "nbconvert_exporter": "python",
   "pygments_lexer": "ipython3",
   "version": "3.9.12"
  }
 },
 "nbformat": 4,
 "nbformat_minor": 5
}
